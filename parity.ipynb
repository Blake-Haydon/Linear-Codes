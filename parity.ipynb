{
 "cells": [
  {
   "attachments": {},
   "cell_type": "markdown",
   "metadata": {},
   "source": [
    "# Parity Codes\n",
    "\n",
    "For this example we will encode a message $m$ using a parity check bit. This single bit will allow us to detect a single bit error in the message. For this notebook we will use messages of length 4. An example message is $m=0010$. We can split this message into its constituent bits $m_0=0$, $m_1=0$, $m_2=1$, and $m_3=0$. \n",
    "\n",
    "$$m = \\begin{bmatrix} 0 \\\\ 0 \\\\ 1 \\\\ 0 \\end{bmatrix}$$\n",
    "\n",
    "In this notebook we will refer to $c$ as the codeword. The codeword is the message plus the parity bit. The parity bit is calculated by taking the sum of the message bits and then taking the modulo 2 of the sum. For example, if we have a message $m=0010$ then the parity bit will be $p = (0+0+1+0) \\mod 2 = 1$. The codeword is then $c = 00101$.\n",
    "\n",
    "$$c = \\begin{bmatrix} 0 \\\\ 0 \\\\ 1 \\\\ 0 \\\\ 1 \\end{bmatrix}$$\n",
    "\n",
    "## Generator Matrix\n",
    "\n",
    "To formalize this process of creating a parity bit we can use a generator matrix. The generator matrix is a matrix that takes a message and produces a codeword. The generator matrix will define the following linear equations:\n",
    "\n",
    "- We want $c_0 - m_0 = 0$ therefore if we re-arrange we get $c_0 = m_0$\n",
    "- We want $c_1 - m_1 = 0$ therefore if we re-arrange we get $c_1 = m_1$\n",
    "- We want $c_2 - m_2 = 0$ therefore if we re-arrange we get $c_2 = m_2$\n",
    "- We want $c_3 - m_3 = 0$ therefore if we re-arrange we get $c_3 = m_3$\n",
    "- We want $c_4 - m_0 - m_1 - m_2 - m_3 = 0$ therefore if we re-arrange we get $c_4 = m_0 + m_1 + m_2 + m_3$\n",
    "\n",
    "We can represent the above equations in a generator matrix. By representing the linear equations in a matrix we can use matrix multiplication to calculate the codeword. Using the above equations we get the following generator matrix:\n",
    "\n",
    "$$\n",
    "G = \\begin{bmatrix}\n",
    "1 & 0 & 0 & 0 \\\\\n",
    "0 & 1 & 0 & 0 \\\\\n",
    "0 & 0 & 1 & 0 \\\\\n",
    "0 & 0 & 0 & 1 \\\\\n",
    "1 & 1 & 1 & 1\n",
    "\\end{bmatrix}\n",
    "$$\n",
    "\n",
    "### Calculating the Codeword Matrix\n",
    "\n",
    "To calculate the codeword matrix we can use the following equation:\n",
    "\n",
    "$$c = Gm$$\n",
    "\n",
    "For this example the following equation will be used:\n",
    "\n",
    "$$c = \n",
    "\\begin{bmatrix}\n",
    "1 & 0 & 0 & 0 \\\\\n",
    "0 & 1 & 0 & 0 \\\\\n",
    "0 & 0 & 1 & 0 \\\\\n",
    "0 & 0 & 0 & 1 \\\\\n",
    "1 & 1 & 1 & 1\n",
    "\\end{bmatrix}\n",
    "\\begin{bmatrix} 0 \\\\ 0 \\\\ 1 \\\\ 0 \\end{bmatrix}\n",
    "= \n",
    "\\begin{bmatrix} 0 \\\\ 0 \\\\ 1 \\\\ 0 \\\\ 1 \\end{bmatrix}\n",
    "$$\n",
    "\n",
    "## Parity Check Matrix\n",
    "\n",
    "In order to check that the message was sent correctly we can check its integrity using a parity check matrix $H$. Using the codeword $c$ we can calculate the syndrome vector $s$. If the syndrome vector is all equal to zero no errors have occurred. Because the code is linear we can use the following equation to calculate the syndrome vector:\n",
    "\n",
    "$$\n",
    "s = Hc\n",
    "$$\n",
    "\n",
    "For a parity bit check we must ensure that $c_4 - m_0 - m_1 - m_2 - m_3 = 0$. Because we do not know the message bits we first must translate them into there corresponding codeword bits. Because we have a simple code this is just $c_4 - c_0 - c_1 - c_2 - c_3 = 0$.\n",
    "\n",
    "Therefore, when we translate this into a parity check matrix we get the following:\n",
    "\n",
    "$$\n",
    "H = \\begin{bmatrix} 1 & 1 & 1 & 1 & 1 \\end{bmatrix}\n",
    "$$\n",
    "\n",
    "### Calculating the Syndrome Vector\n",
    "\n",
    "For our example we can calculate the syndrome vector. \n",
    "\n",
    "$$ s = \n",
    "\\begin{bmatrix} 1 & 1 & 1 & 1 & 1 \\end{bmatrix}\n",
    "\\begin{bmatrix} 0 \\\\ 0 \\\\ 1 \\\\ 0 \\\\ 1 \\end{bmatrix}\n",
    "= 0\n",
    "$$\n",
    "\n",
    "Because the syndrome vector is equal to zero no errors have occurred.\n",
    "\n",
    "## Decoding Codewords\n",
    "\n",
    "In order to decode the codewords we will use a decoding matrix $D$. The decoding matrix will be a matrix that takes a codeword and produces a message. For a 4 bit message with a single parity bit we can use the following decoding matrix:\n",
    "\n",
    "$$\n",
    "D = \\begin{bmatrix}\n",
    "1 & 0 & 0 & 0 & 0 \\\\\n",
    "0 & 1 & 0 & 0 & 0 \\\\\n",
    "0 & 0 & 1 & 0 & 0 \\\\\n",
    "0 & 0 & 0 & 1 & 0\n",
    "\\end{bmatrix}\n",
    "$$\n",
    "\n",
    "To extract the message we must use the following equation:\n",
    "\n",
    "$$m = Dc$$"
   ]
  },
  {
   "cell_type": "code",
   "execution_count": 1,
   "metadata": {},
   "outputs": [],
   "source": [
    "from galois import GF2"
   ]
  },
  {
   "cell_type": "code",
   "execution_count": 2,
   "metadata": {},
   "outputs": [
    {
     "data": {
      "text/plain": [
       "GF([[1, 0, 0, 0],\n",
       "    [0, 1, 0, 0],\n",
       "    [0, 0, 1, 0],\n",
       "    [0, 0, 0, 1],\n",
       "    [1, 1, 1, 1]], order=2)"
      ]
     },
     "execution_count": 2,
     "metadata": {},
     "output_type": "execute_result"
    }
   ],
   "source": [
    "# G = generator matrix\n",
    "generator = GF2(\n",
    "    [\n",
    "        [1, 0, 0, 0],\n",
    "        [0, 1, 0, 0],\n",
    "        [0, 0, 1, 0],\n",
    "        [0, 0, 0, 1],\n",
    "        [1, 1, 1, 1],\n",
    "    ]\n",
    ") \n",
    "\n",
    "# output generator matrix\n",
    "generator"
   ]
  },
  {
   "cell_type": "code",
   "execution_count": 3,
   "metadata": {},
   "outputs": [
    {
     "data": {
      "text/plain": [
       "GF([[1, 1, 1, 1, 1]], order=2)"
      ]
     },
     "execution_count": 3,
     "metadata": {},
     "output_type": "execute_result"
    }
   ],
   "source": [
    "# H = check matrix\n",
    "parity_check = GF2(\n",
    "    [\n",
    "        [1, 1, 1, 1, 1],\n",
    "    ]\n",
    ")\n",
    "\n",
    "# output check matrix\n",
    "parity_check"
   ]
  },
  {
   "cell_type": "code",
   "execution_count": 4,
   "metadata": {},
   "outputs": [
    {
     "data": {
      "text/plain": [
       "GF([[1, 0, 0, 0, 0],\n",
       "    [0, 1, 0, 0, 0],\n",
       "    [0, 0, 1, 0, 0],\n",
       "    [0, 0, 0, 1, 0]], order=2)"
      ]
     },
     "execution_count": 4,
     "metadata": {},
     "output_type": "execute_result"
    }
   ],
   "source": [
    "# D = decoder matrix\n",
    "decoder_matrix = GF2(\n",
    "    [\n",
    "        [1, 0, 0, 0, 0],\n",
    "        [0, 1, 0, 0, 0],\n",
    "        [0, 0, 1, 0, 0],\n",
    "        [0, 0, 0, 1, 0],\n",
    "    ]\n",
    ")\n",
    "\n",
    "# output decoder matrix\n",
    "decoder_matrix"
   ]
  },
  {
   "cell_type": "code",
   "execution_count": 5,
   "metadata": {},
   "outputs": [
    {
     "data": {
      "text/plain": [
       "GF([0, 0, 1, 0], order=2)"
      ]
     },
     "execution_count": 5,
     "metadata": {},
     "output_type": "execute_result"
    }
   ],
   "source": [
    "# m = message matrix\n",
    "message = GF2([0, 0, 1, 0]) \n",
    "\n",
    "# output message matrix\n",
    "message"
   ]
  },
  {
   "cell_type": "code",
   "execution_count": 6,
   "metadata": {},
   "outputs": [
    {
     "data": {
      "text/plain": [
       "GF([0, 0, 1, 0, 1], order=2)"
      ]
     },
     "execution_count": 6,
     "metadata": {},
     "output_type": "execute_result"
    }
   ],
   "source": [
    "# c = codeword matrix\n",
    "codeword = generator @ message\n",
    "\n",
    "# output codeword matrix\n",
    "codeword"
   ]
  },
  {
   "cell_type": "code",
   "execution_count": 7,
   "metadata": {},
   "outputs": [
    {
     "data": {
      "text/plain": [
       "GF([0], order=2)"
      ]
     },
     "execution_count": 7,
     "metadata": {},
     "output_type": "execute_result"
    }
   ],
   "source": [
    "# s = syndrome matrix\n",
    "syndrome = parity_check @ codeword\n",
    "\n",
    "# output syndrome matrix\n",
    "syndrome"
   ]
  },
  {
   "cell_type": "code",
   "execution_count": 8,
   "metadata": {},
   "outputs": [],
   "source": [
    "def encode(message: GF2):\n",
    "    return generator @ message\n",
    "\n",
    "def decode(codeword: GF2):\n",
    "    syndrome = parity_check @ codeword\n",
    "    if syndrome == GF2([0]):\n",
    "        return decoder_matrix @ codeword\n",
    "    else:\n",
    "        raise Exception(\"Decoding failed: Error detected in codeword\")"
   ]
  },
  {
   "attachments": {},
   "cell_type": "markdown",
   "metadata": {},
   "source": [
    "## Test Error Detection\n",
    "\n",
    "For the following tests we will check that we can detect a single error. We will do this by flipping a single bit in the codeword. We will then check that the syndrome vector is not equal to zero. \n",
    "\n",
    "### Correct Transmission\n",
    "\n",
    "Syndrome vector should be equal to zero.\n",
    "\n",
    "$$s = 0$$\n",
    "\n",
    "### Incorrect Transmission\n",
    "\n",
    "Syndrome vector should be equal to one.\n",
    "\n",
    "$$s = 1$$"
   ]
  },
  {
   "cell_type": "code",
   "execution_count": 9,
   "metadata": {},
   "outputs": [
    {
     "name": "stdout",
     "output_type": "stream",
     "text": [
      "Error successfully detected!\n"
     ]
    }
   ],
   "source": [
    "# Generate codewords from message\n",
    "codeword = encode(message)\n",
    "\n",
    "# Flip a bit\n",
    "codeword[2] = GF2(1) + codeword[2]\n",
    "\n",
    "# Decode codeword\n",
    "try: \n",
    "    decode(codeword)\n",
    "except:\n",
    "    print(\"Error successfully detected!\")"
   ]
  }
 ],
 "metadata": {
  "kernelspec": {
   "display_name": "Python 3",
   "language": "python",
   "name": "python3"
  },
  "language_info": {
   "codemirror_mode": {
    "name": "ipython",
    "version": 3
   },
   "file_extension": ".py",
   "mimetype": "text/x-python",
   "name": "python",
   "nbconvert_exporter": "python",
   "pygments_lexer": "ipython3",
   "version": "3.10.4"
  },
  "orig_nbformat": 4,
  "vscode": {
   "interpreter": {
    "hash": "2ab98c4b59af728aa8bd9922870b996a7fc5861c87b81242319b92eec59b5fef"
   }
  }
 },
 "nbformat": 4,
 "nbformat_minor": 2
}
